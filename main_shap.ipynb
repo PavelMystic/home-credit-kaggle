{
 "cells": [
  {
   "cell_type": "code",
   "execution_count": 1,
   "metadata": {},
   "outputs": [
    {
     "name": "stderr",
     "output_type": "stream",
     "text": [
      "IProgress not found. Please update jupyter and ipywidgets. See https://ipywidgets.readthedocs.io/en/stable/user_install.html\n"
     ]
    }
   ],
   "source": [
    "# built-in imports\n",
    "import os\n",
    "import joblib\n",
    "# 3p imports\n",
    "import shap\n",
    "# project imports"
   ]
  },
  {
   "cell_type": "code",
   "execution_count": 2,
   "metadata": {},
   "outputs": [],
   "source": [
    "models_path: str = os.path.join(\".\", \"models\")\n",
    "\n",
    "with open(os.path.join(models_path, \"LogisticRegression_model_complete_data.joblib\"), \"rb\") as file:\n",
    "    classifier_pipeline = joblib.load(filename=file)\n",
    "\n",
    "with open(os.path.join(models_path, \"LogisticRegression_data.joblib\"), \"rb\") as file:\n",
    "    X, y = joblib.load(filename=file)"
   ]
  },
  {
   "cell_type": "code",
   "execution_count": 3,
   "metadata": {},
   "outputs": [],
   "source": [
    "shap.partial_dependence_plot(\"AMT_INCOME_TOTAL\", classifier_pipeline.predict, X, model_expected_value=True, feature_expected_value=True)"
   ]
  }
 ],
 "metadata": {
  "kernelspec": {
   "display_name": "venv",
   "language": "python",
   "name": "python3"
  },
  "language_info": {
   "codemirror_mode": {
    "name": "ipython",
    "version": 3
   },
   "file_extension": ".py",
   "mimetype": "text/x-python",
   "name": "python",
   "nbconvert_exporter": "python",
   "pygments_lexer": "ipython3",
   "version": "3.10.10"
  }
 },
 "nbformat": 4,
 "nbformat_minor": 2
}
