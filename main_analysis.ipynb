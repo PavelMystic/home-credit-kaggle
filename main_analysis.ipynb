{
 "cells": [
  {
   "cell_type": "markdown",
   "metadata": {},
   "source": [
    "# PKL Take on the Home Credit Default Risk Kaggle Competition"
   ]
  },
  {
   "cell_type": "code",
   "execution_count": 1,
   "metadata": {},
   "outputs": [],
   "source": [
    "# built-in imports\n",
    "import os\n",
    "# 3p imports\n",
    "import polars as pl\n",
    "from sklearn.model_selection import train_test_split\n",
    "from sklearn.neural_network import MLPClassifier\n",
    "from sklearn.preprocessing import OneHotEncoder\n",
    "# custom imports\n",
    "from helper_functions import load_data_frame, flag_columns_to_bool\n"
   ]
  },
  {
   "cell_type": "markdown",
   "metadata": {},
   "source": [
    "## Data Loading"
   ]
  },
  {
   "cell_type": "code",
   "execution_count": 2,
   "metadata": {},
   "outputs": [],
   "source": [
    "path_application_train = os.path.join(\"./\", \"home-credit-default-risk\", \"application_train.csv\")\n",
    "\n",
    "df = load_data_frame(path_application_train)\n",
    "original_size = df.shape\n",
    "null_count_df = df.isna().sum() # vypsani statistik poctu chybejicicih hodnot\n",
    "null_count_df == 0 # funguje, vrati tabulku statistik s bool hodnotami\n",
    "df = df.dropna() # odmaze vsechny null radky, no made-up data approach\n",
    "no_null_shape = df.shape"
   ]
  },
  {
   "cell_type": "markdown",
   "metadata": {},
   "source": [
    "## Data Preprocessing"
   ]
  },
  {
   "cell_type": "code",
   "execution_count": 3,
   "metadata": {},
   "outputs": [
    {
     "name": "stdout",
     "output_type": "stream",
     "text": [
      "  (0, 0)\t1.0\n",
      "  (0, 8602)\t1.0\n",
      "  (0, 8604)\t1.0\n",
      "  (0, 8607)\t1.0\n",
      "  (0, 8608)\t1.0\n",
      "  (0, 8610)\t1.0\n",
      "  (0, 8611)\t1.0\n",
      "  (0, 8645)\t1.0\n",
      "  (0, 9616)\t1.0\n",
      "  (0, 12068)\t1.0\n",
      "  (0, 14648)\t1.0\n",
      "  (0, 14946)\t1.0\n",
      "  (0, 14949)\t1.0\n",
      "  (0, 14954)\t1.0\n",
      "  (0, 14956)\t1.0\n",
      "  (0, 14961)\t1.0\n",
      "  (0, 15008)\t1.0\n",
      "  (0, 17292)\t1.0\n",
      "  (0, 24652)\t1.0\n",
      "  (0, 30876)\t1.0\n",
      "  (0, 32213)\t1.0\n",
      "  (0, 35362)\t1.0\n",
      "  (0, 35387)\t1.0\n",
      "  (0, 35389)\t1.0\n",
      "  (0, 35390)\t1.0\n",
      "  :\t:\n",
      "  (8601, 94388)\t1.0\n",
      "  (8601, 94390)\t1.0\n",
      "  (8601, 94391)\t1.0\n",
      "  (8601, 94393)\t1.0\n",
      "  (8601, 94395)\t1.0\n",
      "  (8601, 94398)\t1.0\n",
      "  (8601, 94399)\t1.0\n",
      "  (8601, 94401)\t1.0\n",
      "  (8601, 94403)\t1.0\n",
      "  (8601, 94405)\t1.0\n",
      "  (8601, 94407)\t1.0\n",
      "  (8601, 94409)\t1.0\n",
      "  (8601, 94411)\t1.0\n",
      "  (8601, 94413)\t1.0\n",
      "  (8601, 94415)\t1.0\n",
      "  (8601, 94417)\t1.0\n",
      "  (8601, 94419)\t1.0\n",
      "  (8601, 94421)\t1.0\n",
      "  (8601, 94423)\t1.0\n",
      "  (8601, 94425)\t1.0\n",
      "  (8601, 94428)\t1.0\n",
      "  (8601, 94433)\t1.0\n",
      "  (8601, 94438)\t1.0\n",
      "  (8601, 94455)\t1.0\n",
      "  (8601, 94464)\t1.0\n"
     ]
    }
   ],
   "source": [
    "df = flag_columns_to_bool(df)\n",
    "\n",
    "encoder = OneHotEncoder()\n",
    "df = encoder.fit_transform(df)\n",
    "print(df)\n"
   ]
  },
  {
   "cell_type": "code",
   "execution_count": null,
   "metadata": {},
   "outputs": [],
   "source": [
    "y = df.drop_in_place(\"TARGET\")\n",
    "X = df\n",
    "X_train, y_train, X_test, y_test = train_test_split(X.to_numpy(), y.to_numpy())"
   ]
  },
  {
   "cell_type": "markdown",
   "metadata": {},
   "source": [
    "## Baseline Classifier for later comparison"
   ]
  },
  {
   "cell_type": "code",
   "execution_count": null,
   "metadata": {},
   "outputs": [],
   "source": [
    "baseline_classifier = MLPClassifier().fit(X_train, y_train)"
   ]
  }
 ],
 "metadata": {
  "kernelspec": {
   "display_name": "venv",
   "language": "python",
   "name": "python3"
  },
  "language_info": {
   "codemirror_mode": {
    "name": "ipython",
    "version": 3
   },
   "file_extension": ".py",
   "mimetype": "text/x-python",
   "name": "python",
   "nbconvert_exporter": "python",
   "pygments_lexer": "ipython3",
   "version": "3.10.10"
  }
 },
 "nbformat": 4,
 "nbformat_minor": 2
}
