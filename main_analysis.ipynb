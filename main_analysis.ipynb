{
 "cells": [
  {
   "cell_type": "markdown",
   "metadata": {},
   "source": [
    "# PKL Take on the Home Credit Default Risk Kaggle Competition"
   ]
  },
  {
   "cell_type": "code",
   "execution_count": 6,
   "metadata": {},
   "outputs": [],
   "source": [
    "# built-in imports\n",
    "import os\n",
    "import joblib\n",
    "# 3p imports\n",
    "import pandas as pd\n",
    "from sklearn.model_selection import train_test_split, cross_val_score\n",
    "# from sklearn.neural_network import MLPClassifier as classifier\n",
    "# from sklearn.linear_model import LogisticRegression as classifier\n",
    "# from sklearn.tree import DecisionTreeClassifier as classifier\n",
    "from sklearn.linear_model import LogisticRegression as classifier\n",
    "from sklearn.pipeline import make_pipeline\n",
    "# custom imports\n",
    "from helper_functions import load_data_frame, create_column_transformer\n"
   ]
  },
  {
   "cell_type": "code",
   "execution_count": 7,
   "metadata": {},
   "outputs": [
    {
     "name": "stdout",
     "output_type": "stream",
     "text": [
      "From the original data, 100000 samples was created!\n",
      "From the original data, 50 features was dropped!\n"
     ]
    }
   ],
   "source": [
    "path_application_train = os.path.join(\"./\", \"home-credit-default-risk\", \"application_train.csv\")\n",
    "X, y = load_data_frame(path_application_train, n_sample=100000, drop_na_ratio=None)"
   ]
  },
  {
   "cell_type": "code",
   "execution_count": 8,
   "metadata": {},
   "outputs": [],
   "source": [
    "column_transformer = create_column_transformer(X)"
   ]
  },
  {
   "cell_type": "code",
   "execution_count": 9,
   "metadata": {},
   "outputs": [
    {
     "name": "stdout",
     "output_type": "stream",
     "text": [
      "(75000, 121)\n",
      "(75000,)\n"
     ]
    }
   ],
   "source": [
    "X_train, X_test, y_train, y_test = train_test_split(X, y)\n",
    "print(X_train.shape)\n",
    "print(y_train.shape)"
   ]
  },
  {
   "cell_type": "code",
   "execution_count": 10,
   "metadata": {},
   "outputs": [],
   "source": [
    "classifier_instance = classifier()\n",
    "classifier_pipeline = make_pipeline(column_transformer, classifier_instance)\n",
    "classifier_pipeline.fit(X, y)\n",
    "\n",
    "classifier_name: str = str(classifier_instance.__class__.__name__)\n",
    "models_path: str = os.path.join(\".\", \"models\")\n",
    "\n",
    "with open(os.path.join(models_path, classifier_name + \"_model_complete_data.joblib\"), \"wb\") as file:\n",
    "    joblib.dump(value=classifier_pipeline, filename=file)\n",
    "\n",
    "with open(os.path.join(models_path, classifier_name + \"_data.joblib\"), \"wb\") as file:\n",
    "    joblib.dump(value=(X, y), filename=file)\n"
   ]
  }
 ],
 "metadata": {
  "kernelspec": {
   "display_name": "venv",
   "language": "python",
   "name": "python3"
  },
  "language_info": {
   "codemirror_mode": {
    "name": "ipython",
    "version": 3
   },
   "file_extension": ".py",
   "mimetype": "text/x-python",
   "name": "python",
   "nbconvert_exporter": "python",
   "pygments_lexer": "ipython3",
   "version": "3.10.10"
  }
 },
 "nbformat": 4,
 "nbformat_minor": 2
}
